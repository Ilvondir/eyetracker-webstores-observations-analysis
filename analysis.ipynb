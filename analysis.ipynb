{
 "cells": [
  {
   "cell_type": "code",
   "execution_count": null,
   "id": "initial_id",
   "metadata": {
    "collapsed": true
   },
   "outputs": [],
   "source": [
    "# Import bibliotek\n",
    "import pandas as pd\n",
    "import math\n",
    "import plotly.express as px"
   ]
  },
  {
   "cell_type": "code",
   "execution_count": null,
   "outputs": [],
   "source": [
    "# Import danych w formacie CSV\n",
    "data = pd.read_csv(\"dataset.txt\", sep=\";\")\n",
    "\n",
    "#Wyluskanie danych potrzebnych do analizy i przygotowanie zbioru do pracy\n",
    "data = data[[\"Stimulus\", \"Participant\", \"Category Right\", \"Index Right\", \"Point of Regard Right X [px]\", \"Point of Regard Right Y [px]\"]]\n",
    "\n",
    "data = data[data[\"Category Right\"] == \"Fixation\"]\n",
    "data = data[[\"Stimulus\", \"Participant\", \"Index Right\", \"Point of Regard Right X [px]\", \"Point of Regard Right Y [px]\"]]\n",
    "data = data[data[\"Stimulus\"].isin([\"Grid Page 1\", \"Carousel Page 1\", \"List Page 1\"])]\n",
    "data = data.rename(columns={\"Index Right\": \"Fixation Index\"}).reset_index()\n",
    "data = data.drop(\"index\", axis=1)\n",
    "data[\"Fixation Index\"] = data[\"Fixation Index\"].astype(int)\n",
    "data[\"Point of Regard Right X [px]\"] = data[\"Point of Regard Right X [px]\"].astype(float)\n",
    "data[\"Point of Regard Right Y [px]\"] = data[\"Point of Regard Right Y [px]\"].astype(float)\n",
    "data['Stimulus'] = data['Stimulus'].str.replace(' Page 1', '')\n",
    "data = data[data[\"Participant\"] != \"test\"]\n",
    "data = data[(data[\"Point of Regard Right X [px]\"] > 0 ) & (data[\"Point of Regard Right Y [px]\"] > 0)]\n",
    "data"
   ],
   "metadata": {
    "collapsed": false
   },
   "id": "eef7383d2c84bcb1"
  },
  {
   "cell_type": "code",
   "execution_count": null,
   "outputs": [],
   "source": [
    "# Pobranie nazw uczestnikow badania\n",
    "participants_names = data[\"Participant\"].unique().tolist()\n",
    "\n",
    "# Pobranie nazw stimulusow\n",
    "stimulus_names = data[\"Stimulus\"].unique().tolist()\n",
    "stats = []\n",
    "\n",
    "# Pobranie ilosci fiksacji dla kazdego uzytkownika\n",
    "for name in participants_names:\n",
    "    t = [name]\n",
    "    \n",
    "    for stimulus in stimulus_names:\n",
    "        f_num = len(data[(data[\"Stimulus\"] == stimulus) & (data[\"Participant\"] == name)][\"Fixation Index\"].unique())\n",
    "        t.append((stimulus, f_num))\n",
    "    \n",
    "    stats.append(t)\n",
    "\n",
    "# Wyswietlenie zbiorczych statystyk uczestnikow     \n",
    "display(stats)"
   ],
   "metadata": {
    "collapsed": false
   },
   "id": "256e08c0df928bb4"
  },
  {
   "cell_type": "code",
   "execution_count": null,
   "outputs": [],
   "source": [
    "def calculate(x, y, stim):\n",
    "    \n",
    "    # Rozmiary strony oraz ekranu\n",
    "    x_res = 1680\n",
    "    y_res = 1050\n",
    "    page_width = 1920\n",
    "    page_height = 0\n",
    "\n",
    "    if stim == \"Carousel\":\n",
    "        page_height = 2191\n",
    "\n",
    "    if stim == \"Grid\" or stim == \"List\":\n",
    "        page_height = 2912\n",
    "\n",
    "    # Przeksztalcenie liniowe\n",
    "    prop = (page_height / y_res)\n",
    "    physical_width = x_res / prop\n",
    "    offset = 0.5*(x_res - physical_width)\n",
    "    x = ((x-offset)/physical_width) * page_width\n",
    "    y = (y / y_res) * page_height\n",
    "    \n",
    "    return [x, y]\n",
    "\n",
    "# Metoda do sprawdzania, czy pod przekazanymi koordynatami znajduje sie jakis produkt\n",
    "def check_coords(x, y, stim):\n",
    "\n",
    "    x, y = calculate(x, y, stim)\n",
    "\n",
    "    # Sprawdzanie czy pod wspolrzednymi kryja sie produkty    \n",
    "    if stim == \"Grid\":\n",
    "        \n",
    "        coords = [\n",
    "            (600, 950, 800, 1300),\n",
    "            (1050, 1400, 800, 1300),\n",
    "            (1500, 1850, 800, 1300),\n",
    "            (600, 950, 1380, 1880),\n",
    "            (1050, 1400, 1380, 1880),\n",
    "            (1500, 1850, 1380, 1880),\n",
    "            (600, 950, 1960, 2460),\n",
    "            (1050, 1400, 1960, 2460),\n",
    "            (1500, 1850, 1960, 2460),\n",
    "        ]\n",
    "\n",
    "        i = 1\n",
    "        for c in coords:\n",
    "            if (c[0] <= x <= c[1]) and (c[2] <= y <= c[3]): return [x, y, i]\n",
    "            i +=1\n",
    " \n",
    "        return [x, y, -1]\n",
    "        \n",
    "        \n",
    "    if stim == \"List\": \n",
    "        \n",
    "        coords = [\n",
    "            (600, 1800, 800, 1100),\n",
    "            (600, 1800, 1120, 1420),\n",
    "            (600, 1800, 1440, 1740),\n",
    "            (600, 1800, 1760, 2060),\n",
    "            (600, 1800, 2080, 2380),\n",
    "        ]\n",
    "\n",
    "        i = 1\n",
    "        for c in coords:\n",
    "            if (c[0] <= x <= c[1]) and (c[2] <= y <= c[3]): return [x, y, i]\n",
    "            i += 1\n",
    "\n",
    "        return [x, y, -1]\n",
    "        \n",
    "    if stim == \"Carousel\":\n",
    "        \n",
    "        coords = [\n",
    "            (20, 370, 1086, 1584),\n",
    "            (390, 740, 1086, 1584),\n",
    "            (760, 1210, 1086, 1584),\n",
    "            (1130, 1480, 1086, 1584),\n",
    "            (1500, 1850, 1086, 1584),\n",
    "        ]\n",
    "\n",
    "        i = 1\n",
    "        for c in coords:\n",
    "            if (c[0] <= x <= c[1]) and (c[2] <= y <= c[3]): return [x, y, i]\n",
    "            i += 1\n",
    "\n",
    "        return [x, y, -1]\n",
    "        "
   ],
   "metadata": {
    "collapsed": false
   },
   "id": "56b4fb68f929948c"
  },
  {
   "cell_type": "code",
   "execution_count": null,
   "outputs": [],
   "source": [
    "products = pd.DataFrame(columns=[\"Participant\", \"Stimulus\", \"Product Number\"])\n",
    "\n",
    "# Stworzenie ramki danych z obserwacji uzytkownikow\n",
    "for person in stats:\n",
    "    for stim in person[1:]:\n",
    "        for fix in range(1, stim[1] + 1):\n",
    "            data_temp = data[(data[\"Participant\"]==person[0]) & (data[\"Stimulus\"]==stim[0]) & (data[\"Fixation Index\"]==fix)]\n",
    "            x_mean = data_temp[\"Point of Regard Right X [px]\"].median()\n",
    "            y_mean = data_temp[\"Point of Regard Right Y [px]\"].median()\n",
    "            x, y, p_id = check_coords(x_mean, y_mean, stim[0])\n",
    "            \n",
    "            if not math.isnan(x) and not math.isnan(y): products.loc[len(products.index)] =  [person[0], stim[0], p_id]\n",
    "\n",
    "products = products[products[\"Product Number\"] != -1].drop_duplicates()\n",
    "products"
   ],
   "metadata": {
    "collapsed": false
   },
   "id": "72c641e11ab9a36b"
  },
  {
   "cell_type": "code",
   "execution_count": null,
   "outputs": [],
   "source": [
    "# Przygotowanie danych do wykresow\n",
    "grid_data_to_histogram  = products[products[\"Stimulus\"] == \"Grid\"].sort_values(by=\"Product Number\")\n",
    "list_data_to_histogram  = products[products[\"Stimulus\"] == \"List\"].sort_values(by=\"Product Number\")\n",
    "carousel_data_to_histogram  = products[products[\"Stimulus\"] == \"Carousel\"].sort_values(by=\"Product Number\")\n",
    "\n",
    "# Wyrysowanie wykresow\n",
    "fig2 = px.histogram(grid_data_to_histogram, x='Product Number', color='Product Number', nbins=9,\n",
    "                    title='Liczba użytkowników spoglądających na dany produkt na stronie Grid')\n",
    "\n",
    "fig3 = px.histogram(list_data_to_histogram, x='Product Number', color='Product Number', nbins=5,\n",
    "                    title='Liczba użytkowników spoglądających na dany produkt na stronie List')\n",
    "\n",
    "fig4 = px.histogram(carousel_data_to_histogram, x='Product Number', color='Product Number', nbins=5,\n",
    "                    title='Liczba użytkowników spoglądających na dany produkt na stronie Carousel')\n",
    "\n",
    "fig2.update_layout(showlegend=False)    \n",
    "fig3.update_layout(showlegend=False)    \n",
    "fig4.update_layout(showlegend=False)    \n",
    "\n",
    "fig2.show()\n",
    "fig3.show()\n",
    "fig4.show()"
   ],
   "metadata": {
    "collapsed": false
   },
   "id": "972d77cc0e152e42"
  },
  {
   "cell_type": "code",
   "execution_count": null,
   "outputs": [],
   "source": [
    "products_on_grid = 9\n",
    "products_on_carousel = 5 \n",
    "products_on_list = 5\n",
    "experiments = len(products[\"Participant\"].unique())\n",
    "\n",
    "# Przeliczenie na ile produktow spojrzal kazdy uczestnik\n",
    "counts = products.groupby([\"Participant\", \"Stimulus\"]).agg({\"Product Number\": \"size\"}).reset_index()\n",
    "counts[\"Count\"] = counts[\"Product Number\"]\n",
    "counts = counts.drop([\"Product Number\"], axis=1)\n",
    "\n",
    "counts"
   ],
   "metadata": {
    "collapsed": false
   },
   "id": "3a804152f2ac32a8"
  },
  {
   "cell_type": "code",
   "execution_count": null,
   "outputs": [],
   "source": [
    "# Wyrysowanie kolejnych wykresow\n",
    "fig6 = px.bar(counts[counts[\"Stimulus\"] == \"Grid\"], x=\"Participant\", y=\"Count\", color=\"Participant\", title=\"Liczba produktów, na które uczestnicy zwrócili uwagę na stronie Grid\", labels={\"Count\": \"Ilość produktów\", \"Participant\": \"Uczestnik\"})\n",
    "\n",
    "fig7 = px.bar(counts[counts[\"Stimulus\"] == \"List\"], x=\"Participant\", y=\"Count\", color=\"Participant\", title=\"Liczba produktów, na które uczestnicy zwrócili uwagę na stronie List\", labels={\"Count\": \"Ilość produktów\", \"Participant\": \"Uczestnik\"})\n",
    "\n",
    "fig8 = px.bar(counts[counts[\"Stimulus\"] == \"Carousel\"], x=\"Participant\", y=\"Count\", color=\"Participant\", title=\"Liczba produktów, na które uczestnicy zwrócili uwagę na stronie Carousel\", labels={\"Count\": \"Ilość produktów\", \"Participant\": \"Uczestnik\"})\n",
    "\n",
    "fig6.update_layout(showlegend=False)\n",
    "fig7.update_layout(showlegend=False)\n",
    "fig8.update_layout(showlegend=False)\n",
    "\n",
    "fig6.show()\n",
    "fig7.show()\n",
    "fig8.show()"
   ],
   "metadata": {
    "collapsed": false
   },
   "id": "ab1a4eb2f83b408b"
  },
  {
   "cell_type": "code",
   "execution_count": null,
   "outputs": [],
   "source": [
    "# Obliczenie procentowej efektywnosci ukladow\n",
    "grid_percents = counts[counts[\"Stimulus\"] == \"Grid\"][\"Count\"].sum()\n",
    "grid_percents = grid_percents / experiments # experiments = liczba uczestnikow\n",
    "grid_percents = str(round((grid_percents /  products_on_grid) * 100, 2)) + \"%\"\n",
    "\n",
    "list_percents = counts[counts[\"Stimulus\"] == \"List\"][\"Count\"].sum()\n",
    "list_percents = list_percents / experiments\n",
    "list_percents = str(round((list_percents / products_on_list) * 100, 2)) + \"%\"\n",
    "\n",
    "carousel_percents = counts[counts[\"Stimulus\"] == \"Carousel\"][\"Count\"].sum()\n",
    "carousel_percents = carousel_percents / experiments\n",
    "carousel_percents = str(round((carousel_percents / products_on_carousel) * 100, 2)) + \"%\""
   ],
   "metadata": {
    "collapsed": false
   },
   "id": "5cc23f893e5244ed"
  },
  {
   "cell_type": "code",
   "execution_count": null,
   "outputs": [],
   "source": [
    "percents = pd.DataFrame({\"Page\": [\"Grid\", \"List\", \"Carousel\"], \"Percents\": [grid_percents, list_percents, carousel_percents]})\n",
    "display(percents)"
   ],
   "metadata": {
    "collapsed": false
   },
   "id": "641fef6abc247050"
  }
 ],
 "metadata": {
  "kernelspec": {
   "display_name": "Python 3",
   "language": "python",
   "name": "python3"
  },
  "language_info": {
   "codemirror_mode": {
    "name": "ipython",
    "version": 2
   },
   "file_extension": ".py",
   "mimetype": "text/x-python",
   "name": "python",
   "nbconvert_exporter": "python",
   "pygments_lexer": "ipython2",
   "version": "2.7.6"
  }
 },
 "nbformat": 4,
 "nbformat_minor": 5
}
